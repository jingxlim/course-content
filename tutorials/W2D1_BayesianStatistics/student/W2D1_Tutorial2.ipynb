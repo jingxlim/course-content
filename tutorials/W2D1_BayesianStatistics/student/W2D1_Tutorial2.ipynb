{
  "nbformat": 4,
  "nbformat_minor": 0,
  "metadata": {
    "colab": {
      "name": "NeuromatchAcademy_W2D1_Tutorial2",
      "provenance": [],
      "collapsed_sections": [],
      "toc_visible": true,
      "include_colab_link": true
    },
    "kernelspec": {
      "display_name": "Python 3",
      "language": "python",
      "name": "python3"
    },
    "language_info": {
      "codemirror_mode": {
        "name": "ipython",
        "version": 3
      },
      "file_extension": ".py",
      "mimetype": "text/x-python",
      "name": "python",
      "nbconvert_exporter": "python",
      "pygments_lexer": "ipython3",
      "version": "3.7.8"
    },
    "widgets": {
      "application/vnd.jupyter.widget-state+json": {
        "24862601d64b470292feef09c869f500": {
          "model_module": "@jupyter-widgets/controls",
          "model_name": "VBoxModel",
          "state": {
            "_view_name": "VBoxView",
            "_dom_classes": [
              "widget-interact"
            ],
            "_model_name": "VBoxModel",
            "_view_module": "@jupyter-widgets/controls",
            "_model_module_version": "1.5.0",
            "_view_count": null,
            "_view_module_version": "1.5.0",
            "box_style": "",
            "layout": "IPY_MODEL_7a83aa2d8e964c758ae47fb04a6a30d5",
            "_model_module": "@jupyter-widgets/controls",
            "children": [
              "IPY_MODEL_12b96c061ad14f90b64b188b696980c1",
              "IPY_MODEL_51d8c6254bde4afbb799d6a00ab5b76b",
              "IPY_MODEL_2dcf46c51de245daa9a7ac09e8830f2d",
              "IPY_MODEL_a60b645b712d49aabd8386bf7d301e23",
              "IPY_MODEL_7d8f5102e8bb46e3bd734d402d0400a2",
              "IPY_MODEL_37a786019911433dbbdf0777552f8100"
            ]
          }
        },
        "7a83aa2d8e964c758ae47fb04a6a30d5": {
          "model_module": "@jupyter-widgets/base",
          "model_name": "LayoutModel",
          "state": {
            "_view_name": "LayoutView",
            "grid_template_rows": null,
            "right": null,
            "justify_content": null,
            "_view_module": "@jupyter-widgets/base",
            "overflow": null,
            "_model_module_version": "1.2.0",
            "_view_count": null,
            "flex_flow": null,
            "width": null,
            "min_width": null,
            "border": null,
            "align_items": null,
            "bottom": null,
            "_model_module": "@jupyter-widgets/base",
            "top": null,
            "grid_column": null,
            "overflow_y": null,
            "overflow_x": null,
            "grid_auto_flow": null,
            "grid_area": null,
            "grid_template_columns": null,
            "flex": null,
            "_model_name": "LayoutModel",
            "justify_items": null,
            "grid_row": null,
            "max_height": null,
            "align_content": null,
            "visibility": null,
            "align_self": null,
            "height": null,
            "min_height": null,
            "padding": null,
            "grid_auto_rows": null,
            "grid_gap": null,
            "max_width": null,
            "order": null,
            "_view_module_version": "1.2.0",
            "grid_template_areas": null,
            "object_position": null,
            "object_fit": null,
            "grid_auto_columns": null,
            "margin": null,
            "display": null,
            "left": null
          }
        },
        "12b96c061ad14f90b64b188b696980c1": {
          "model_module": "@jupyter-widgets/controls",
          "model_name": "FloatSliderModel",
          "state": {
            "_view_name": "FloatSliderView",
            "style": "IPY_MODEL_5bd7546522f74df0ac9c4d21e4eaf87d",
            "_dom_classes": [],
            "description": "sigma_common",
            "step": 0.5,
            "_model_name": "FloatSliderModel",
            "orientation": "horizontal",
            "max": 10,
            "_view_module": "@jupyter-widgets/controls",
            "_model_module_version": "1.5.0",
            "value": 2.01,
            "_view_count": null,
            "disabled": false,
            "_view_module_version": "1.5.0",
            "min": 0.01,
            "continuous_update": true,
            "readout_format": ".2f",
            "description_tooltip": null,
            "readout": true,
            "_model_module": "@jupyter-widgets/controls",
            "layout": "IPY_MODEL_c006b3cffc534b08b9a5c2ac91e22b97"
          }
        },
        "51d8c6254bde4afbb799d6a00ab5b76b": {
          "model_module": "@jupyter-widgets/controls",
          "model_name": "FloatSliderModel",
          "state": {
            "_view_name": "FloatSliderView",
            "style": "IPY_MODEL_b7b8de89b8094541952e5b2b118d59ba",
            "_dom_classes": [],
            "description": "sigma_independent:",
            "step": 0.5,
            "_model_name": "FloatSliderModel",
            "orientation": "horizontal",
            "max": 10,
            "_view_module": "@jupyter-widgets/controls",
            "_model_module_version": "1.5.0",
            "value": 8.01,
            "_view_count": null,
            "disabled": false,
            "_view_module_version": "1.5.0",
            "min": 0.01,
            "continuous_update": true,
            "readout_format": ".2f",
            "description_tooltip": null,
            "readout": true,
            "_model_module": "@jupyter-widgets/controls",
            "layout": "IPY_MODEL_bb540a9cb1874a1e996718ebbf24c796"
          }
        },
        "2dcf46c51de245daa9a7ac09e8830f2d": {
          "model_module": "@jupyter-widgets/controls",
          "model_name": "FloatSliderModel",
          "state": {
            "_view_name": "FloatSliderView",
            "style": "IPY_MODEL_db1562af207d432190cafebca180416e",
            "_dom_classes": [],
            "description": "p_common",
            "step": 0.1,
            "_model_name": "FloatSliderModel",
            "orientation": "horizontal",
            "max": 1,
            "_view_module": "@jupyter-widgets/controls",
            "_model_module_version": "1.5.0",
            "value": 0.6,
            "_view_count": null,
            "disabled": false,
            "_view_module_version": "1.5.0",
            "min": 0,
            "continuous_update": true,
            "readout_format": ".2f",
            "description_tooltip": null,
            "readout": true,
            "_model_module": "@jupyter-widgets/controls",
            "layout": "IPY_MODEL_352016df605d407c9b7034ed3afbbc0c"
          }
        },
        "a60b645b712d49aabd8386bf7d301e23": {
          "model_module": "@jupyter-widgets/controls",
          "model_name": "FloatSliderModel",
          "state": {
            "_view_name": "FloatSliderView",
            "style": "IPY_MODEL_9215be9c54b544dfae76a2be108e55c9",
            "_dom_classes": [],
            "description": "mu_auditory:",
            "step": 0.1,
            "_model_name": "FloatSliderModel",
            "orientation": "horizontal",
            "max": 10,
            "_view_module": "@jupyter-widgets/controls",
            "_model_module_version": "1.5.0",
            "value": 5.9,
            "_view_count": null,
            "disabled": false,
            "_view_module_version": "1.5.0",
            "min": -10,
            "continuous_update": true,
            "readout_format": ".2f",
            "description_tooltip": null,
            "readout": true,
            "_model_module": "@jupyter-widgets/controls",
            "layout": "IPY_MODEL_f36627410d4045b4a3fb6f09525d3577"
          }
        },
        "7d8f5102e8bb46e3bd734d402d0400a2": {
          "model_module": "@jupyter-widgets/controls",
          "model_name": "FloatSliderModel",
          "state": {
            "_view_name": "FloatSliderView",
            "style": "IPY_MODEL_774ecc38a90c4f3eb95c62f4d46f1ec8",
            "_dom_classes": [],
            "description": "sigma_auditory:",
            "step": 0.5,
            "_model_name": "FloatSliderModel",
            "orientation": "horizontal",
            "max": 10,
            "_view_module": "@jupyter-widgets/controls",
            "_model_module_version": "1.5.0",
            "value": 0.5,
            "_view_count": null,
            "disabled": false,
            "_view_module_version": "1.5.0",
            "min": 0.01,
            "continuous_update": true,
            "readout_format": ".2f",
            "description_tooltip": null,
            "readout": true,
            "_model_module": "@jupyter-widgets/controls",
            "layout": "IPY_MODEL_68343e1d67ab4246a574f315992a747c"
          }
        },
        "37a786019911433dbbdf0777552f8100": {
          "model_module": "@jupyter-widgets/output",
          "model_name": "OutputModel",
          "state": {
            "_view_name": "OutputView",
            "msg_id": "",
            "_dom_classes": [],
            "_model_name": "OutputModel",
            "outputs": [
              {
                "output_type": "display_data",
                "metadata": {
                  "tags": [],
                  "image/png": {
                    "width": 424,
                    "height": 280
                  },
                  "needs_background": "light"
                },
                "image/png": "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\n",
                "text/plain": "<Figure size 432x288 with 1 Axes>"
              }
            ],
            "_view_module": "@jupyter-widgets/output",
            "_model_module_version": "1.0.0",
            "_view_count": null,
            "_view_module_version": "1.0.0",
            "layout": "IPY_MODEL_b5edee8710f34823910b2c0609ee8abe",
            "_model_module": "@jupyter-widgets/output"
          }
        },
        "5bd7546522f74df0ac9c4d21e4eaf87d": {
          "model_module": "@jupyter-widgets/controls",
          "model_name": "SliderStyleModel",
          "state": {
            "_view_name": "StyleView",
            "handle_color": null,
            "_model_name": "SliderStyleModel",
            "description_width": "initial",
            "_view_module": "@jupyter-widgets/base",
            "_model_module_version": "1.5.0",
            "_view_count": null,
            "_view_module_version": "1.2.0",
            "_model_module": "@jupyter-widgets/controls"
          }
        },
        "c006b3cffc534b08b9a5c2ac91e22b97": {
          "model_module": "@jupyter-widgets/base",
          "model_name": "LayoutModel",
          "state": {
            "_view_name": "LayoutView",
            "grid_template_rows": null,
            "right": null,
            "justify_content": null,
            "_view_module": "@jupyter-widgets/base",
            "overflow": null,
            "_model_module_version": "1.2.0",
            "_view_count": null,
            "flex_flow": null,
            "width": null,
            "min_width": null,
            "border": null,
            "align_items": null,
            "bottom": null,
            "_model_module": "@jupyter-widgets/base",
            "top": null,
            "grid_column": null,
            "overflow_y": null,
            "overflow_x": null,
            "grid_auto_flow": null,
            "grid_area": null,
            "grid_template_columns": null,
            "flex": null,
            "_model_name": "LayoutModel",
            "justify_items": null,
            "grid_row": null,
            "max_height": null,
            "align_content": null,
            "visibility": null,
            "align_self": null,
            "height": null,
            "min_height": null,
            "padding": null,
            "grid_auto_rows": null,
            "grid_gap": null,
            "max_width": null,
            "order": null,
            "_view_module_version": "1.2.0",
            "grid_template_areas": null,
            "object_position": null,
            "object_fit": null,
            "grid_auto_columns": null,
            "margin": null,
            "display": null,
            "left": null
          }
        },
        "b7b8de89b8094541952e5b2b118d59ba": {
          "model_module": "@jupyter-widgets/controls",
          "model_name": "SliderStyleModel",
          "state": {
            "_view_name": "StyleView",
            "handle_color": null,
            "_model_name": "SliderStyleModel",
            "description_width": "initial",
            "_view_module": "@jupyter-widgets/base",
            "_model_module_version": "1.5.0",
            "_view_count": null,
            "_view_module_version": "1.2.0",
            "_model_module": "@jupyter-widgets/controls"
          }
        },
        "bb540a9cb1874a1e996718ebbf24c796": {
          "model_module": "@jupyter-widgets/base",
          "model_name": "LayoutModel",
          "state": {
            "_view_name": "LayoutView",
            "grid_template_rows": null,
            "right": null,
            "justify_content": null,
            "_view_module": "@jupyter-widgets/base",
            "overflow": null,
            "_model_module_version": "1.2.0",
            "_view_count": null,
            "flex_flow": null,
            "width": null,
            "min_width": null,
            "border": null,
            "align_items": null,
            "bottom": null,
            "_model_module": "@jupyter-widgets/base",
            "top": null,
            "grid_column": null,
            "overflow_y": null,
            "overflow_x": null,
            "grid_auto_flow": null,
            "grid_area": null,
            "grid_template_columns": null,
            "flex": null,
            "_model_name": "LayoutModel",
            "justify_items": null,
            "grid_row": null,
            "max_height": null,
            "align_content": null,
            "visibility": null,
            "align_self": null,
            "height": null,
            "min_height": null,
            "padding": null,
            "grid_auto_rows": null,
            "grid_gap": null,
            "max_width": null,
            "order": null,
            "_view_module_version": "1.2.0",
            "grid_template_areas": null,
            "object_position": null,
            "object_fit": null,
            "grid_auto_columns": null,
            "margin": null,
            "display": null,
            "left": null
          }
        },
        "db1562af207d432190cafebca180416e": {
          "model_module": "@jupyter-widgets/controls",
          "model_name": "SliderStyleModel",
          "state": {
            "_view_name": "StyleView",
            "handle_color": null,
            "_model_name": "SliderStyleModel",
            "description_width": "",
            "_view_module": "@jupyter-widgets/base",
            "_model_module_version": "1.5.0",
            "_view_count": null,
            "_view_module_version": "1.2.0",
            "_model_module": "@jupyter-widgets/controls"
          }
        },
        "352016df605d407c9b7034ed3afbbc0c": {
          "model_module": "@jupyter-widgets/base",
          "model_name": "LayoutModel",
          "state": {
            "_view_name": "LayoutView",
            "grid_template_rows": null,
            "right": null,
            "justify_content": null,
            "_view_module": "@jupyter-widgets/base",
            "overflow": null,
            "_model_module_version": "1.2.0",
            "_view_count": null,
            "flex_flow": null,
            "width": null,
            "min_width": null,
            "border": null,
            "align_items": null,
            "bottom": null,
            "_model_module": "@jupyter-widgets/base",
            "top": null,
            "grid_column": null,
            "overflow_y": null,
            "overflow_x": null,
            "grid_auto_flow": null,
            "grid_area": null,
            "grid_template_columns": null,
            "flex": null,
            "_model_name": "LayoutModel",
            "justify_items": null,
            "grid_row": null,
            "max_height": null,
            "align_content": null,
            "visibility": null,
            "align_self": null,
            "height": null,
            "min_height": null,
            "padding": null,
            "grid_auto_rows": null,
            "grid_gap": null,
            "max_width": null,
            "order": null,
            "_view_module_version": "1.2.0",
            "grid_template_areas": null,
            "object_position": null,
            "object_fit": null,
            "grid_auto_columns": null,
            "margin": null,
            "display": null,
            "left": null
          }
        },
        "9215be9c54b544dfae76a2be108e55c9": {
          "model_module": "@jupyter-widgets/controls",
          "model_name": "SliderStyleModel",
          "state": {
            "_view_name": "StyleView",
            "handle_color": null,
            "_model_name": "SliderStyleModel",
            "description_width": "initial",
            "_view_module": "@jupyter-widgets/base",
            "_model_module_version": "1.5.0",
            "_view_count": null,
            "_view_module_version": "1.2.0",
            "_model_module": "@jupyter-widgets/controls"
          }
        },
        "f36627410d4045b4a3fb6f09525d3577": {
          "model_module": "@jupyter-widgets/base",
          "model_name": "LayoutModel",
          "state": {
            "_view_name": "LayoutView",
            "grid_template_rows": null,
            "right": null,
            "justify_content": null,
            "_view_module": "@jupyter-widgets/base",
            "overflow": null,
            "_model_module_version": "1.2.0",
            "_view_count": null,
            "flex_flow": null,
            "width": null,
            "min_width": null,
            "border": null,
            "align_items": null,
            "bottom": null,
            "_model_module": "@jupyter-widgets/base",
            "top": null,
            "grid_column": null,
            "overflow_y": null,
            "overflow_x": null,
            "grid_auto_flow": null,
            "grid_area": null,
            "grid_template_columns": null,
            "flex": null,
            "_model_name": "LayoutModel",
            "justify_items": null,
            "grid_row": null,
            "max_height": null,
            "align_content": null,
            "visibility": null,
            "align_self": null,
            "height": null,
            "min_height": null,
            "padding": null,
            "grid_auto_rows": null,
            "grid_gap": null,
            "max_width": null,
            "order": null,
            "_view_module_version": "1.2.0",
            "grid_template_areas": null,
            "object_position": null,
            "object_fit": null,
            "grid_auto_columns": null,
            "margin": null,
            "display": null,
            "left": null
          }
        },
        "774ecc38a90c4f3eb95c62f4d46f1ec8": {
          "model_module": "@jupyter-widgets/controls",
          "model_name": "SliderStyleModel",
          "state": {
            "_view_name": "StyleView",
            "handle_color": null,
            "_model_name": "SliderStyleModel",
            "description_width": "initial",
            "_view_module": "@jupyter-widgets/base",
            "_model_module_version": "1.5.0",
            "_view_count": null,
            "_view_module_version": "1.2.0",
            "_model_module": "@jupyter-widgets/controls"
          }
        },
        "68343e1d67ab4246a574f315992a747c": {
          "model_module": "@jupyter-widgets/base",
          "model_name": "LayoutModel",
          "state": {
            "_view_name": "LayoutView",
            "grid_template_rows": null,
            "right": null,
            "justify_content": null,
            "_view_module": "@jupyter-widgets/base",
            "overflow": null,
            "_model_module_version": "1.2.0",
            "_view_count": null,
            "flex_flow": null,
            "width": null,
            "min_width": null,
            "border": null,
            "align_items": null,
            "bottom": null,
            "_model_module": "@jupyter-widgets/base",
            "top": null,
            "grid_column": null,
            "overflow_y": null,
            "overflow_x": null,
            "grid_auto_flow": null,
            "grid_area": null,
            "grid_template_columns": null,
            "flex": null,
            "_model_name": "LayoutModel",
            "justify_items": null,
            "grid_row": null,
            "max_height": null,
            "align_content": null,
            "visibility": null,
            "align_self": null,
            "height": null,
            "min_height": null,
            "padding": null,
            "grid_auto_rows": null,
            "grid_gap": null,
            "max_width": null,
            "order": null,
            "_view_module_version": "1.2.0",
            "grid_template_areas": null,
            "object_position": null,
            "object_fit": null,
            "grid_auto_columns": null,
            "margin": null,
            "display": null,
            "left": null
          }
        },
        "b5edee8710f34823910b2c0609ee8abe": {
          "model_module": "@jupyter-widgets/base",
          "model_name": "LayoutModel",
          "state": {
            "_view_name": "LayoutView",
            "grid_template_rows": null,
            "right": null,
            "justify_content": null,
            "_view_module": "@jupyter-widgets/base",
            "overflow": null,
            "_model_module_version": "1.2.0",
            "_view_count": null,
            "flex_flow": null,
            "width": null,
            "min_width": null,
            "border": null,
            "align_items": null,
            "bottom": null,
            "_model_module": "@jupyter-widgets/base",
            "top": null,
            "grid_column": null,
            "overflow_y": null,
            "overflow_x": null,
            "grid_auto_flow": null,
            "grid_area": null,
            "grid_template_columns": null,
            "flex": null,
            "_model_name": "LayoutModel",
            "justify_items": null,
            "grid_row": null,
            "max_height": null,
            "align_content": null,
            "visibility": null,
            "align_self": null,
            "height": null,
            "min_height": null,
            "padding": null,
            "grid_auto_rows": null,
            "grid_gap": null,
            "max_width": null,
            "order": null,
            "_view_module_version": "1.2.0",
            "grid_template_areas": null,
            "object_position": null,
            "object_fit": null,
            "grid_auto_columns": null,
            "margin": null,
            "display": null,
            "left": null
          }
        }
      }
    }
  },
  "cells": [
    {
      "cell_type": "markdown",
      "metadata": {
        "id": "view-in-github",
        "colab_type": "text"
      },
      "source": [
        "<a href=\"https://colab.research.google.com/github/jingxlim/course-content/blob/interactive-track/tutorials/W2D1_BayesianStatistics/student/W2D1_Tutorial2.ipynb\" target=\"_parent\"><img src=\"https://colab.research.google.com/assets/colab-badge.svg\" alt=\"Open In Colab\"/></a>"
      ]
    },
    {
      "cell_type": "markdown",
      "metadata": {
        "colab_type": "text",
        "id": "hKBTPqcHykZk"
      },
      "source": [
        "# Neuromatch Academy: Week 2, Day 1, Tutorial 2\n",
        "# Causal inference with mixture of Gaussians\n",
        "\n",
        "__Content creators:__ Vincent Valton, Konrad Kording, with help from Matt Krause\n",
        "\n",
        "__Content reviewers:__ Matt Krause, Jesse Livezey, Karolina Stosio, Saeed Salehi, Michael Waskom"
      ]
    },
    {
      "cell_type": "markdown",
      "metadata": {
        "colab_type": "text",
        "id": "1kGSaKhXykZs"
      },
      "source": [
        "# Tutorial Objectives\n",
        "\n",
        "The previous notebook introduced Gaussians and Bayes' rule, allowing us to model very simple combinations of auditory and visual input. In this and the following notebook, we will use those building blocks to explore more complicated sensory integration and ventriloquism! \n",
        "\n",
        "In this notebook, you will:\n",
        "1. Learn more about the problem setting, which we wil also use in Tutorial 3,\n",
        "2. Implement a mixture-of-Gaussian prior, and\n",
        "3. Explore how that prior produces more complex posteriors."
      ]
    },
    {
      "cell_type": "code",
      "metadata": {
        "cellView": "form",
        "colab_type": "code",
        "id": "fwHP4D3p3c2A",
        "colab": {
          "base_uri": "https://localhost:8080/",
          "height": 516
        },
        "outputId": "422497ee-b213-4f13-db03-85476ca822b7"
      },
      "source": [
        "# @title Video 1: Introduction\n",
        "from IPython.display import YouTubeVideo\n",
        "video = YouTubeVideo(id='GdIwJWsW9-s', width=854, height=480, fs=1)\n",
        "print(\"Video available at https://youtube.com/watch?v=\" + video.id)\n",
        "video"
      ],
      "execution_count": null,
      "outputs": [
        {
          "output_type": "stream",
          "text": [
            "Video available at https://youtube.com/watch?v=GdIwJWsW9-s\n"
          ],
          "name": "stdout"
        },
        {
          "output_type": "execute_result",
          "data": {
            "image/jpeg": "[encoded data removed]",
            "text/html": [
              "\n",
              "        <iframe\n",
              "            width=\"854\"\n",
              "            height=\"480\"\n",
              "            src=\"https://www.youtube.com/embed/GdIwJWsW9-s?fs=1\"\n",
              "            frameborder=\"0\"\n",
              "            allowfullscreen\n",
              "        ></iframe>\n",
              "        "
            ],
            "text/plain": [
              "<IPython.lib.display.YouTubeVideo at 0x7f9265b9fb10>"
            ]
          },
          "metadata": {
            "tags": []
          },
          "execution_count": 1
        }
      ]
    },
    {
      "cell_type": "markdown",
      "metadata": {
        "colab_type": "text",
        "id": "wcHSXKdUx8x9"
      },
      "source": [
        "---\n",
        "##Setup  \n",
        "Please execute the cells below to initialize the notebook environment."
      ]
    },
    {
      "cell_type": "code",
      "metadata": {
        "colab_type": "code",
        "id": "gTb-QAsTIm6L",
        "colab": {}
      },
      "source": [
        "# imports\n",
        "import numpy as np                 \n",
        "import matplotlib.pyplot as plt "
      ],
      "execution_count": 1,
      "outputs": []
    },
    {
      "cell_type": "code",
      "metadata": {
        "cellView": "form",
        "colab_type": "code",
        "id": "GVwNeV6MIta6",
        "colab": {}
      },
      "source": [
        "#@title Figure Settings\n",
        "plt.style.use(\"https://raw.githubusercontent.com/NeuromatchAcademy/course-content/master/nma.mplstyle\")\n",
        "%matplotlib inline\n",
        "%config InlineBackend.figure_format = 'retina'"
      ],
      "execution_count": 2,
      "outputs": []
    },
    {
      "cell_type": "code",
      "metadata": {
        "cellView": "form",
        "colab_type": "code",
        "id": "mmp9WCoEzFOO",
        "colab": {}
      },
      "source": [
        "#@title Helper functions\n",
        "    \n",
        "def my_gaussian(x_points, mu, sigma):\n",
        "    \"\"\"\n",
        "    DO NOT EDIT THIS FUNCTION !!!\n",
        "\n",
        "    Returns normalized Gaussian estimated at points `x_points`, with parameters `mu` and `sigma`\n",
        "    \n",
        "    Args: \n",
        "      x_points (numpy array of floats) - points at which the gaussian is evaluated\n",
        "      mu (scalar) - mean of the Gaussian\n",
        "      sigma (scalar) - standard deviation of the gaussian\n",
        "    Returns:\n",
        "      (numpy array of floats): normalized Gaussian (i.e. without constant) evaluated at `x`\n",
        "    \"\"\"\n",
        "    px = np.exp(- 1/2/sigma**2 * (mu - x_points) ** 2)\n",
        "\n",
        "    px = px / px.sum() # this is the normalization part with a very strong assumption, that\n",
        "                       # x_points cover the big portion of probability mass around the mean.\n",
        "                       # Please think/discuss when this would be a dangerous assumption.\n",
        "    \n",
        "    return px\n",
        "\n",
        "def plot_mixture_prior(x, gaussian1, gaussian2, combined):\n",
        "    \"\"\"\n",
        "    DO NOT EDIT THIS FUNCTION !!!\n",
        "\n",
        "    Plots a prior made of a mixture of gaussians\n",
        "    \n",
        "    Args: \n",
        "      x (numpy array of floats):         points at which the likelihood has been evaluated\n",
        "      gaussian1 (numpy array of floats): normalized probabilities for Gaussian 1 evaluated at each `x`\n",
        "      gaussian2 (numpy array of floats): normalized probabilities for Gaussian 2 evaluated at each `x`\n",
        "      posterior (numpy array of floats): normalized probabilities for the posterior evaluated at each `x`\n",
        "             \n",
        "    Returns:\n",
        "      Nothing\n",
        "    \"\"\"\n",
        "    fig, ax = plt.subplots()\n",
        "    ax.plot(x, gaussian1, '--b', LineWidth=2, label='Gaussian 1')\n",
        "    ax.plot(x, gaussian2, '-.b', LineWidth=2, label='Gaussian 2')\n",
        "    ax.plot(x, combined, '-r', LineWidth=2, label='Gaussian Mixture')\n",
        "    ax.legend()\n",
        "    ax.set_ylabel('Probability')\n",
        "    ax.set_xlabel('Orientation (Degrees)')\n",
        "    "
      ],
      "execution_count": 3,
      "outputs": []
    },
    {
      "cell_type": "markdown",
      "metadata": {
        "colab_type": "text",
        "id": "tF5caxVGYURh"
      },
      "source": [
        "# Section 1: Motivating example\n",
        "\n",
        "Ventriloquists produce the illusion that their puppets are talking because:\n",
        "1. We observe the visual input of the puppet moving its mouth, as if speaking.\n",
        "2. The speech that the puppeteer generates originates near the puppet's mouth. \n",
        "\n",
        "Since we are accustomed to voices coming from moving mouths, we tend to interpret the voice as coming directly from the puppet itself rather than from the puppeteer (who is also hiding his/her own mouth movements). In the remaining tutorials, we will study how this illusion breaks down as the distance between the visual stimulus (the puppet's mouth) and the auditory stimulus (the puppeter's concealed speech) changes. \n",
        "\n",
        "Imagine an experiment where participants are shown a puppet moving its mouth at a location directly in front of them (at position 0˚). The subjects are told that 75% of the time, the voice they hear originates from the puppet. On the remaining 25% of trials, sounds come from elsewhere. Participants learn this over multiple trials, after which a curtain is dropped in front of the puppeteer and the puppet. \n",
        "\n",
        "Next, we present only the auditory stimulus at varying locations and we ask participants to report where the source of the sound is located. The participants have access to two pieces of information:\n",
        "\n",
        "*   The prior information about sound localization, learned during the trials before the curtain fell.\n",
        "*   Their noisy sensory estimates about where a particular sound originates. \n",
        "\n",
        "Our eventual goal, which we achieve in Tutorial 3, is to predict the subjects' responses: when do subjects ascribe a sound to the puppet, and when do they believe it originated elsewhere? Doing so requires building a prior that captures the participant's knowledge and expectations, which we wil do in the exercises that follow here. "
      ]
    },
    {
      "cell_type": "markdown",
      "metadata": {
        "colab_type": "text",
        "id": "M6II_9AmykZt"
      },
      "source": [
        "# Section 2: Mixture-of-Gaussians Prior\n",
        "\n",
        "In the previous tutorial, you learned how to create a single Gaussian prior that could represent one of these possibilties. A broad Gaussian with a large $\\sigma$ could represent sounds originating from nearly anywhere, while a narrow Gaussian with $\\mu$ near zero could represent sounds orginating from the puppet. \n",
        "\n",
        "Here, we will combine those into a mixure-of-Gaussians probability density function (PDF) that captures both possibilties. We will control how the Gaussians are mixed by summing them together with a 'mixing' or weight parameter $p_{common}$, set to a value between 0 and 1, like so:\n",
        "\n",
        "\\begin{eqnarray}\n",
        "    \\text{Mixture} = \\bigl[\\; p_{common} \\times \\mathcal{N}(\\mu_{common},\\sigma_{common}) \\; \\bigr] + \\bigl[ \\;\\underbrace{(1-p_{common})}_{p_{independent}} \\times \\mathcal{N}(\\mu_{independent},\\sigma_{independent}) \\; \\bigr]\n",
        "\\end{eqnarray}\n",
        "\n",
        "$p_{common}$ denotes the probability that auditory stimulus shares a \"common\" source with the learnt visual input; in other words, the probability that the \"puppet\" is speaking. You might think that we need to include a separate weight for the possibility that sound is \"independent\" from the puppet. nHowever, since there are only two, mutually-exclusive possibilties, we can replace $p_{independent}$ with $(1 - p_{common})$ since, by the law of total probability, $p_{common} + p_{independent}$ must equal one. \n",
        "\n",
        "Using the formula above, complete the code to build this mixture-of-Gaussians PDF: \n",
        "* Generate a Gaussian with mean 0 and standard deviation 0.5 to be the 'common' part of the Gaussian mixture prior. (This is already done for you below).\n",
        "* Generate another Gaussian with mean 0 and standard deviation 3 to serve as the 'independent' part. \n",
        "* Combine the two Gaussians to make a new prior by mixing the two Gaussians with mixing parameter $p_{common}$ = 0.75 so that the peakier \"common-cause\" Gaussian has 75% of the weight. Don't forget to normalize afterwards! \n",
        "\n",
        "Hints:\n",
        "* Code for the `my_gaussian` function from Tutorial 1 is available for you to use. Its documentation is below. \n"
      ]
    },
    {
      "cell_type": "markdown",
      "metadata": {
        "colab_type": "text",
        "id": "BqnE69bSyorO"
      },
      "source": [
        "**Helper function(s)**\n"
      ]
    },
    {
      "cell_type": "code",
      "metadata": {
        "colab_type": "code",
        "id": "owJc8QeMzAAg",
        "colab": {
          "base_uri": "https://localhost:8080/",
          "height": 252
        },
        "outputId": "8872699e-2e06-420b-d26e-82514ddb3b67"
      },
      "source": [
        "help(my_gaussian)"
      ],
      "execution_count": 4,
      "outputs": [
        {
          "output_type": "stream",
          "text": [
            "Help on function my_gaussian in module __main__:\n",
            "\n",
            "my_gaussian(x_points, mu, sigma)\n",
            "    DO NOT EDIT THIS FUNCTION !!!\n",
            "    \n",
            "    Returns normalized Gaussian estimated at points `x_points`, with parameters `mu` and `sigma`\n",
            "    \n",
            "    Args: \n",
            "      x_points (numpy array of floats) - points at which the gaussian is evaluated\n",
            "      mu (scalar) - mean of the Gaussian\n",
            "      sigma (scalar) - standard deviation of the gaussian\n",
            "    Returns:\n",
            "      (numpy array of floats): normalized Gaussian (i.e. without constant) evaluated at `x`\n",
            "\n"
          ],
          "name": "stdout"
        }
      ]
    },
    {
      "cell_type": "markdown",
      "metadata": {
        "colab_type": "text",
        "id": "dqKKm5dpQ07Y"
      },
      "source": [
        "## Exercise 1: Implement the prior "
      ]
    },
    {
      "cell_type": "code",
      "metadata": {
        "cellView": "code",
        "colab_type": "code",
        "id": "y34EhXtnykZu",
        "colab": {
          "base_uri": "https://localhost:8080/",
          "height": 297
        },
        "outputId": "120f7e29-f59b-4539-c8e7-2bcd1d5257a5"
      },
      "source": [
        "def mixture_prior(x, mean=0, sigma_common=0.5, sigma_independent=3, p_common=0.75):\n",
        "\n",
        "  ###############################################################################\n",
        "  ## Insert your code here to:\n",
        "  #   * Create a second gaussian representing the independent-cause component\n",
        "  #   * Combine the two priors, using the mixing weight p_common. Don't forget\n",
        "  #      to normalize the result so it remains a proper probability density function\n",
        "  #\n",
        "  #   * Comment the line below to test out your function   \n",
        "  # raise NotImplementedError(\"Please complete Exercise 1\")\n",
        "  ###############################################################################\n",
        "  \n",
        "  gaussian_common = my_gaussian(x, mean, sigma_common) \n",
        "  gaussian_independent = my_gaussian(x, mean, sigma_independent)\n",
        "  mixture = p_common*gaussian_common + (1-p_common)*gaussian_independent\n",
        "\n",
        "  return gaussian_common, gaussian_independent, mixture\n",
        "\n",
        "\n",
        "x = np.arange(-10, 11, 0.1)\n",
        "\n",
        "# Uncomment the lines below to visualize out your solution\n",
        "common, independent, mixture = mixture_prior(x)\n",
        "plot_mixture_prior(x, common, independent, mixture)"
      ],
      "execution_count": 5,
      "outputs": [
        {
          "output_type": "display_data",
          "data": {
            "image/png": "[encoded data removed]",
            "text/plain": [
              "<Figure size 432x288 with 1 Axes>"
            ]
          },
          "metadata": {
            "tags": [],
            "image/png": {
              "width": 424,
              "height": 280
            },
            "needs_background": "light"
          }
        }
      ]
    },
    {
      "cell_type": "markdown",
      "metadata": {
        "colab_type": "text",
        "id": "TbTSz-TtykZy",
        "outputId": "371c906d-ddd0-42f4-bd7d-6170c8818f94"
      },
      "source": [
        "[*Click for solution*](https://github.com/NeuromatchAcademy/course-content/tree/master//tutorials/W2D1_BayesianStatistics/solutions/W2D1_Tutorial2_Solution_01b53c96.py)\n",
        "\n",
        "*Example output:*\n",
        "\n",
        "<img alt='Solution hint' align='left' width=424 height=280 src=https://raw.githubusercontent.com/NeuromatchAcademy/course-content/master/tutorials/W2D1_BayesianStatistics/static/W2D1_Tutorial2_Solution_01b53c96_2.png>\n",
        "\n"
      ]
    },
    {
      "cell_type": "markdown",
      "metadata": {
        "colab_type": "text",
        "id": "3cd1_HLZ0CCX"
      },
      "source": [
        "\n",
        "# Section 3: Bayes Theorem with Complex Posteriors"
      ]
    },
    {
      "cell_type": "code",
      "metadata": {
        "cellView": "form",
        "colab_type": "code",
        "id": "fWRT63esyZiD",
        "colab": {
          "base_uri": "https://localhost:8080/",
          "height": 516
        },
        "outputId": "79136cf7-30de-475f-83ba-29887aef24fb"
      },
      "source": [
        "#@title Video 2: Mixture-of-Gaussians and Bayes' Theorem\n",
        "video = YouTubeVideo(id='LWKM35te0WI', width=854, height=480, fs=1)\n",
        "print(\"Video available at https://youtube.com/watch?v=\" + video.id)\n",
        "video"
      ],
      "execution_count": null,
      "outputs": [
        {
          "output_type": "stream",
          "text": [
            "Video available at https://youtube.com/watch?v=LWKM35te0WI\n"
          ],
          "name": "stdout"
        },
        {
          "output_type": "execute_result",
          "data": {
            "image/jpeg": "[encoded data removed]",
            "text/html": [
              "\n",
              "        <iframe\n",
              "            width=\"854\"\n",
              "            height=\"480\"\n",
              "            src=\"https://www.youtube.com/embed/LWKM35te0WI?fs=1\"\n",
              "            frameborder=\"0\"\n",
              "            allowfullscreen\n",
              "        ></iframe>\n",
              "        "
            ],
            "text/plain": [
              "<IPython.lib.display.YouTubeVideo at 0x7f9240f68a10>"
            ]
          },
          "metadata": {
            "tags": []
          },
          "execution_count": 8
        }
      ]
    },
    {
      "cell_type": "markdown",
      "metadata": {
        "colab_type": "text",
        "id": "6Im6Qo6_ykZ2"
      },
      "source": [
        "Now that we have created a mixture of Gaussians prior that embodies the participants' expectations about sound location, we want to compute the posterior probability, which represents the subjects' beliefs about a specific sound's origin. \n",
        "\n",
        "To do so we will compute the posterior by using *Bayes Theorem* to combine the mixture-of-gaussians prior and varying auditory Gaussian likelihood. This works exactly the same as in Tutorial 1: we simply multiply the prior and likelihood pointwise, then normalize the resulting distribution so it sums to 1. (The closed-form solution from Exercise 2B, however, no longer applies to this more complicated prior). \n",
        "\n",
        "Here, we provide you with the code mentioned in the video (lucky!). Instead, use the interactive demo to explore how a mixture-of-Gaussians prior and Gaussian likelihood interact. For simplicity, we have fixed the prior mean to be zero. We also recommend starting with same other prior parameters used in Exercise 1: $\\sigma_{common} = 0.5, \\sigma_{independent} = 3, p_{common}=0.75$; vary the likelihood instead. \n",
        "\n",
        "Unlike the demo in Tutorial 1, you should see several qualitatively different effects on the posterior, depending on the relative position and width of likelihood. Pay special attention to both the overall shape of the posterior and the location of the peak. What do you see?"
      ]
    },
    {
      "cell_type": "markdown",
      "metadata": {
        "colab_type": "text",
        "id": "e4Jq2rczSm1M"
      },
      "source": [
        "## Interactive Demo 1: Mixture-of-Gaussian prior and the posterior"
      ]
    },
    {
      "cell_type": "code",
      "metadata": {
        "cellView": "form",
        "colab_type": "code",
        "id": "ZlIOO-3SRD-0",
        "colab": {
          "base_uri": "https://localhost:8080/",
          "height": 457,
          "referenced_widgets": [
            "24862601d64b470292feef09c869f500",
            "7a83aa2d8e964c758ae47fb04a6a30d5",
            "12b96c061ad14f90b64b188b696980c1",
            "51d8c6254bde4afbb799d6a00ab5b76b",
            "2dcf46c51de245daa9a7ac09e8830f2d",
            "a60b645b712d49aabd8386bf7d301e23",
            "7d8f5102e8bb46e3bd734d402d0400a2",
            "37a786019911433dbbdf0777552f8100",
            "5bd7546522f74df0ac9c4d21e4eaf87d",
            "c006b3cffc534b08b9a5c2ac91e22b97",
            "b7b8de89b8094541952e5b2b118d59ba",
            "bb540a9cb1874a1e996718ebbf24c796",
            "db1562af207d432190cafebca180416e",
            "352016df605d407c9b7034ed3afbbc0c",
            "9215be9c54b544dfae76a2be108e55c9",
            "f36627410d4045b4a3fb6f09525d3577",
            "774ecc38a90c4f3eb95c62f4d46f1ec8",
            "68343e1d67ab4246a574f315992a747c",
            "b5edee8710f34823910b2c0609ee8abe"
          ]
        },
        "outputId": "6b4c92d4-ade6-4e5b-dd05-d19600ede916"
      },
      "source": [
        "#@title\n",
        "#@markdown Make sure you execute this cell to enable the widget!\n",
        "\n",
        "fig_domain = np.arange(-10, 11, 0.1)\n",
        "import ipywidgets as widgets\n",
        "\n",
        "def refresh(sigma_common=0.5, sigma_independent=3, p_common=0.75, mu_auditory=3, sigma_auditory=1.5):\n",
        "    _, _, prior = mixture_prior(fig_domain, 0, sigma_common, sigma_independent, p_common)\n",
        "    likelihood = my_gaussian(fig_domain, mu_auditory, sigma_auditory)\n",
        "\n",
        "    posterior = prior * likelihood\n",
        "    posterior /= posterior.sum()\n",
        "\n",
        "    plt.plot(fig_domain, prior, label=\"Mixture Prior\")\n",
        "    plt.plot(fig_domain, likelihood, label=\"Likelihood\")\n",
        "    plt.plot(fig_domain, posterior, label=\"Posterior\")\n",
        "\n",
        "    plt.legend()\n",
        "\n",
        "    plt.show()\n",
        "\n",
        "style = {'description_width': 'initial'}\n",
        "\n",
        "_ = widgets.interact(refresh, \n",
        "    sigma_common=widgets.FloatSlider(value=0.5, min=0.01, max=10, step=0.5, description=\"sigma_common\", style=style),\n",
        "    sigma_independent=widgets.FloatSlider(value=3, min=0.01, max=10, step=0.5, description=\"sigma_independent:\", style=style),\n",
        "    p_common=widgets.FloatSlider(value=0.75, min=0, max=1, steps=0.01, description=\"p_common\"),\n",
        "    mu_auditory=widgets.FloatSlider(value=2, min=-10, max=10, step=0.1, description=\"mu_auditory:\", style=style),\n",
        "    sigma_auditory=widgets.FloatSlider(value=0.5, min=0.01, max=10, step=0.5, description=\"sigma_auditory:\", style=style),\n",
        ")"
      ],
      "execution_count": 6,
      "outputs": [
        {
          "output_type": "display_data",
          "data": {
            "application/vnd.jupyter.widget-view+json": {
              "model_id": "24862601d64b470292feef09c869f500",
              "version_minor": 0,
              "version_major": 2
            },
            "text/plain": [
              "interactive(children=(FloatSlider(value=0.5, description='sigma_common', max=10.0, min=0.01, step=0.5, style=S…"
            ]
          },
          "metadata": {
            "tags": []
          }
        }
      ]
    },
    {
      "cell_type": "markdown",
      "metadata": {
        "colab_type": "text",
        "id": "GXrEe4ctakqR",
        "outputId": "17a71ae3-6fd7-47ba-ce59-34e72ad104b2"
      },
      "source": [
        "[*Click for solution*](https://github.com/NeuromatchAcademy/course-content/tree/master//tutorials/W2D1_BayesianStatistics/solutions/W2D1_Tutorial2_Solution_9569e15c.py)\n",
        "\n"
      ]
    },
    {
      "cell_type": "markdown",
      "metadata": {
        "colab_type": "text",
        "id": "ujxQsL_vMSFW"
      },
      "source": [
        "# Section 3: Conclusion"
      ]
    },
    {
      "cell_type": "code",
      "metadata": {
        "cellView": "form",
        "colab_type": "code",
        "id": "B8itfnz_4VV_",
        "colab": {
          "base_uri": "https://localhost:8080/",
          "height": 516
        },
        "outputId": "f4d716db-7d2b-44d8-ee9e-1191a3b4b5e6"
      },
      "source": [
        "#@title Video 3: Outro\n",
        "video = YouTubeVideo(id='UgeAtE8xZT8', width=854, height=480, fs=1)\n",
        "print(\"Video available at https://youtube.com/watch?v=\" + video.id)\n",
        "video"
      ],
      "execution_count": null,
      "outputs": [
        {
          "output_type": "stream",
          "text": [
            "Video available at https://youtube.com/watch?v=UgeAtE8xZT8\n"
          ],
          "name": "stdout"
        },
        {
          "output_type": "execute_result",
          "data": {
            "image/jpeg": "[encoded data removed]",
            "text/html": [
              "\n",
              "        <iframe\n",
              "            width=\"854\"\n",
              "            height=\"480\"\n",
              "            src=\"https://www.youtube.com/embed/UgeAtE8xZT8?fs=1\"\n",
              "            frameborder=\"0\"\n",
              "            allowfullscreen\n",
              "        ></iframe>\n",
              "        "
            ],
            "text/plain": [
              "<IPython.lib.display.YouTubeVideo at 0x7f9240f71750>"
            ]
          },
          "metadata": {
            "tags": []
          },
          "execution_count": 11
        }
      ]
    },
    {
      "cell_type": "markdown",
      "metadata": {
        "colab_type": "text",
        "id": "b7wWZWA2hQkP"
      },
      "source": [
        "In this tutorial, we introduced the ventriloquism setting that will form the basis of Tutorials 3 and 4 as well. We built a mixture-of-Gaussians prior that captures the participants' subjective experiences. In the next tutorials, we will use these to perform causal inference and predict the subject's responses to indvidual stimuli. "
      ]
    }
  ]
}